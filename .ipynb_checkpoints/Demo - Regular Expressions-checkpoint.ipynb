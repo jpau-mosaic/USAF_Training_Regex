{
 "cells": [
  {
   "cell_type": "markdown",
   "metadata": {},
   "source": [
    "# Setup"
   ]
  },
  {
   "cell_type": "code",
   "execution_count": 35,
   "metadata": {},
   "outputs": [],
   "source": [
    "import pandas as pd"
   ]
  },
  {
   "cell_type": "code",
   "execution_count": 36,
   "metadata": {},
   "outputs": [],
   "source": [
    "# Searching within Strings\n",
    "test_string = \"This brown fox jumped over the lazy dog at 3pm in the morning.\"\n",
    "df = pd.read_csv(r'/home/jovyan/flight_data.csv')"
   ]
  },
  {
   "cell_type": "markdown",
   "metadata": {},
   "source": [
    "# Basic String Functions"
   ]
  },
  {
   "cell_type": "code",
   "execution_count": 40,
   "metadata": {},
   "outputs": [
    {
     "data": {
      "text/plain": [
       "'This brown fox jumped over the lazy dog at 3pm in the morning.'"
      ]
     },
     "execution_count": 40,
     "metadata": {},
     "output_type": "execute_result"
    }
   ],
   "source": [
    "test_string"
   ]
  },
  {
   "cell_type": "code",
   "execution_count": 43,
   "metadata": {},
   "outputs": [
    {
     "name": "stdout",
     "output_type": "stream",
     "text": [
      "False\n"
     ]
    }
   ],
   "source": [
    "# Search if a substring is within a string\n",
    "print('airforce' in test_string)"
   ]
  },
  {
   "cell_type": "code",
   "execution_count": 45,
   "metadata": {},
   "outputs": [
    {
     "data": {
      "text/plain": [
       "0          False\n",
       "1           True\n",
       "2          False\n",
       "3          False\n",
       "4           True\n",
       "           ...  \n",
       "2173707    False\n",
       "2173708    False\n",
       "2173709     True\n",
       "2173710    False\n",
       "2173711     True\n",
       "Name: call_sign, Length: 2173712, dtype: bool"
      ]
     },
     "execution_count": 45,
     "metadata": {},
     "output_type": "execute_result"
    }
   ],
   "source": [
    "# Search if a substring is within each string in the column\n",
    "df['call_sign'].apply(lambda x: 'SWA' in x)"
   ]
  },
  {
   "cell_type": "code",
   "execution_count": 47,
   "metadata": {},
   "outputs": [
    {
     "data": {
      "text/plain": [
       "False"
      ]
     },
     "execution_count": 47,
     "metadata": {},
     "output_type": "execute_result"
    }
   ],
   "source": [
    "# Finding if a string starts with\n",
    "test_string.startswith('brown')"
   ]
  },
  {
   "cell_type": "code",
   "execution_count": 49,
   "metadata": {},
   "outputs": [
    {
     "data": {
      "text/plain": [
       "'This brown fox jumped over the lazy dog at 3pm in the morning.'"
      ]
     },
     "execution_count": 49,
     "metadata": {},
     "output_type": "execute_result"
    }
   ],
   "source": [
    "test_string"
   ]
  },
  {
   "cell_type": "code",
   "execution_count": 50,
   "metadata": {},
   "outputs": [
    {
     "name": "stdout",
     "output_type": "stream",
     "text": [
      "True\n"
     ]
    }
   ],
   "source": [
    "# Finding if a string ends with \n",
    "print(test_string.endswith('.'))"
   ]
  },
  {
   "cell_type": "code",
   "execution_count": 52,
   "metadata": {},
   "outputs": [
    {
     "data": {
      "text/plain": [
       "'This brown fox jumped over the lazy dog at 3pm in the morning.'"
      ]
     },
     "execution_count": 52,
     "metadata": {},
     "output_type": "execute_result"
    }
   ],
   "source": [
    "test_string"
   ]
  },
  {
   "cell_type": "code",
   "execution_count": 51,
   "metadata": {},
   "outputs": [
    {
     "name": "stdout",
     "output_type": "stream",
     "text": [
      "First instance of jumped in the test_string is 15\n"
     ]
    }
   ],
   "source": [
    "print('First instance of jumped in the test_string is', test_string.index('jumped'))"
   ]
  },
  {
   "cell_type": "code",
   "execution_count": 55,
   "metadata": {},
   "outputs": [
    {
     "name": "stdout",
     "output_type": "stream",
     "text": [
      "First instance of jumped in the test_string is 15\n"
     ]
    },
    {
     "ename": "ValueError",
     "evalue": "substring not found",
     "output_type": "error",
     "traceback": [
      "\u001b[1;31m---------------------------------------------------------------------------\u001b[0m",
      "\u001b[1;31mValueError\u001b[0m                                Traceback (most recent call last)",
      "\u001b[1;32m<ipython-input-55-a88b1c49937e>\u001b[0m in \u001b[0;36m<module>\u001b[1;34m\u001b[0m\n\u001b[0;32m      2\u001b[0m \u001b[0mprint\u001b[0m\u001b[1;33m(\u001b[0m\u001b[1;34m'First instance of jumped in the test_string is'\u001b[0m\u001b[1;33m,\u001b[0m \u001b[0mtest_string\u001b[0m\u001b[1;33m.\u001b[0m\u001b[0mindex\u001b[0m\u001b[1;33m(\u001b[0m\u001b[1;34m'jumped'\u001b[0m\u001b[1;33m)\u001b[0m\u001b[1;33m)\u001b[0m\u001b[1;33m\u001b[0m\u001b[1;33m\u001b[0m\u001b[0m\n\u001b[0;32m      3\u001b[0m \u001b[1;33m\u001b[0m\u001b[0m\n\u001b[1;32m----> 4\u001b[1;33m \u001b[0mtest_string\u001b[0m\u001b[1;33m.\u001b[0m\u001b[0mindex\u001b[0m\u001b[1;33m(\u001b[0m\u001b[1;34m'brother'\u001b[0m\u001b[1;33m)\u001b[0m\u001b[1;33m\u001b[0m\u001b[1;33m\u001b[0m\u001b[0m\n\u001b[0m",
      "\u001b[1;31mValueError\u001b[0m: substring not found"
     ]
    }
   ],
   "source": [
    "# Search by Index\n",
    "print('First instance of jumped in the test_string is', test_string.index('jumped'))\n",
    "\n",
    "test_string.index('brother')"
   ]
  },
  {
   "cell_type": "code",
   "execution_count": 56,
   "metadata": {},
   "outputs": [
    {
     "name": "stdout",
     "output_type": "stream",
     "text": [
      "First instance of jumped in the test_string is 15\n"
     ]
    },
    {
     "data": {
      "text/plain": [
       "-1"
      ]
     },
     "execution_count": 56,
     "metadata": {},
     "output_type": "execute_result"
    }
   ],
   "source": [
    "# Search by Find\n",
    "print('First instance of jumped in the test_string is', test_string.find('jumped'))\n",
    "\n",
    "test_string.find('double')"
   ]
  },
  {
   "cell_type": "markdown",
   "metadata": {},
   "source": [
    "# Pandas String Functions and Regex"
   ]
  },
  {
   "cell_type": "code",
   "execution_count": 62,
   "metadata": {},
   "outputs": [
    {
     "data": {
      "text/plain": [
       "4    Puerto Rico\n",
       "dtype: object"
      ]
     },
     "execution_count": 62,
     "metadata": {},
     "output_type": "execute_result"
    }
   ],
   "source": [
    "# Get countries starting with letter P\n",
    "S=pd.Series(['Finland','Colombia','Florida','Japan','Puerto Rico','Russia','france'])\n",
    "S[S.str.match(r'^P.*')==True]"
   ]
  },
  {
   "cell_type": "code",
   "execution_count": 65,
   "metadata": {},
   "outputs": [
    {
     "data": {
      "text/plain": [
       "4    Puerto Rico\n",
       "dtype: object"
      ]
     },
     "execution_count": 65,
     "metadata": {},
     "output_type": "execute_result"
    }
   ],
   "source": [
    "S[S.str.match(r'^P.*')==True]"
   ]
  },
  {
   "cell_type": "code",
   "execution_count": 66,
   "metadata": {},
   "outputs": [
    {
     "data": {
      "text/plain": [
       "['Finland', 'Florida', 'france']"
      ]
     },
     "execution_count": 66,
     "metadata": {},
     "output_type": "execute_result"
    }
   ],
   "source": [
    "# Python Findall\n",
    "S=pd.Series(['Finland','Colombia','Florida','Japan','Puerto Rico','Russia','france'])\n",
    "[itm[0] for itm in S.str.findall('^[Ff].*') if len(itm)>0]"
   ]
  },
  {
   "cell_type": "code",
   "execution_count": 67,
   "metadata": {},
   "outputs": [
    {
     "data": {
      "text/html": [
       "<div>\n",
       "<style scoped>\n",
       "    .dataframe tbody tr th:only-of-type {\n",
       "        vertical-align: middle;\n",
       "    }\n",
       "\n",
       "    .dataframe tbody tr th {\n",
       "        vertical-align: top;\n",
       "    }\n",
       "\n",
       "    .dataframe thead th {\n",
       "        text-align: right;\n",
       "    }\n",
       "</style>\n",
       "<table border=\"1\" class=\"dataframe\">\n",
       "  <thead>\n",
       "    <tr style=\"text-align: right;\">\n",
       "      <th></th>\n",
       "      <th>airport</th>\n",
       "      <th>call_sign</th>\n",
       "      <th>time</th>\n",
       "      <th>event</th>\n",
       "      <th>departure_airport</th>\n",
       "      <th>destination_airport</th>\n",
       "    </tr>\n",
       "  </thead>\n",
       "  <tbody>\n",
       "    <tr>\n",
       "      <th>116</th>\n",
       "      <td>KDCA</td>\n",
       "      <td>SWA4547</td>\n",
       "      <td>2020-02-09 00:15:09</td>\n",
       "      <td>off</td>\n",
       "      <td>KDCA</td>\n",
       "      <td>KFLL</td>\n",
       "    </tr>\n",
       "    <tr>\n",
       "      <th>283</th>\n",
       "      <td>KMSY</td>\n",
       "      <td>UAL537</td>\n",
       "      <td>2019-07-26 21:52:21</td>\n",
       "      <td>off</td>\n",
       "      <td>NaN</td>\n",
       "      <td>NaN</td>\n",
       "    </tr>\n",
       "    <tr>\n",
       "      <th>345</th>\n",
       "      <td>KATL</td>\n",
       "      <td>SWA5677</td>\n",
       "      <td>2020-01-01 14:00:29</td>\n",
       "      <td>on</td>\n",
       "      <td>KDAL</td>\n",
       "      <td>KATL</td>\n",
       "    </tr>\n",
       "    <tr>\n",
       "      <th>365</th>\n",
       "      <td>KPHX</td>\n",
       "      <td>AAL537P</td>\n",
       "      <td>2019-02-04 02:43:02</td>\n",
       "      <td>on</td>\n",
       "      <td>MMSD</td>\n",
       "      <td>KPHX</td>\n",
       "    </tr>\n",
       "    <tr>\n",
       "      <th>408</th>\n",
       "      <td>KMDW</td>\n",
       "      <td>SWA537</td>\n",
       "      <td>2020-02-17 17:25:26</td>\n",
       "      <td>off</td>\n",
       "      <td>KMDW</td>\n",
       "      <td>KTPA</td>\n",
       "    </tr>\n",
       "    <tr>\n",
       "      <th>...</th>\n",
       "      <td>...</td>\n",
       "      <td>...</td>\n",
       "      <td>...</td>\n",
       "      <td>...</td>\n",
       "      <td>...</td>\n",
       "      <td>...</td>\n",
       "    </tr>\n",
       "    <tr>\n",
       "      <th>2172921</th>\n",
       "      <td>KHOU</td>\n",
       "      <td>SWA5876</td>\n",
       "      <td>2020-06-25 14:14:44</td>\n",
       "      <td>off</td>\n",
       "      <td>KHOU</td>\n",
       "      <td>KOAK</td>\n",
       "    </tr>\n",
       "    <tr>\n",
       "      <th>2172965</th>\n",
       "      <td>KCLT</td>\n",
       "      <td>AAL1577</td>\n",
       "      <td>2020-02-03 04:39:23</td>\n",
       "      <td>on</td>\n",
       "      <td>KMIA</td>\n",
       "      <td>KCLT</td>\n",
       "    </tr>\n",
       "    <tr>\n",
       "      <th>2173158</th>\n",
       "      <td>KBOS</td>\n",
       "      <td>SWA5587</td>\n",
       "      <td>2020-02-29 12:28:25</td>\n",
       "      <td>off</td>\n",
       "      <td>KBOS</td>\n",
       "      <td>KBWI</td>\n",
       "    </tr>\n",
       "    <tr>\n",
       "      <th>2173369</th>\n",
       "      <td>KDFW</td>\n",
       "      <td>AAL1527</td>\n",
       "      <td>2019-02-11 16:00:16</td>\n",
       "      <td>on</td>\n",
       "      <td>KMSN</td>\n",
       "      <td>KDFW</td>\n",
       "    </tr>\n",
       "    <tr>\n",
       "      <th>2173424</th>\n",
       "      <td>KMSY</td>\n",
       "      <td>UAL537</td>\n",
       "      <td>2019-08-23 21:54:43</td>\n",
       "      <td>off</td>\n",
       "      <td>NaN</td>\n",
       "      <td>NaN</td>\n",
       "    </tr>\n",
       "  </tbody>\n",
       "</table>\n",
       "<p>24736 rows × 6 columns</p>\n",
       "</div>"
      ],
      "text/plain": [
       "        airport call_sign                 time event departure_airport  \\\n",
       "116        KDCA   SWA4547  2020-02-09 00:15:09   off              KDCA   \n",
       "283        KMSY    UAL537  2019-07-26 21:52:21   off               NaN   \n",
       "345        KATL   SWA5677  2020-01-01 14:00:29    on              KDAL   \n",
       "365        KPHX   AAL537P  2019-02-04 02:43:02    on              MMSD   \n",
       "408        KMDW    SWA537  2020-02-17 17:25:26   off              KMDW   \n",
       "...         ...       ...                  ...   ...               ...   \n",
       "2172921    KHOU   SWA5876  2020-06-25 14:14:44   off              KHOU   \n",
       "2172965    KCLT   AAL1577  2020-02-03 04:39:23    on              KMIA   \n",
       "2173158    KBOS   SWA5587  2020-02-29 12:28:25   off              KBOS   \n",
       "2173369    KDFW   AAL1527  2019-02-11 16:00:16    on              KMSN   \n",
       "2173424    KMSY    UAL537  2019-08-23 21:54:43   off               NaN   \n",
       "\n",
       "        destination_airport  \n",
       "116                    KFLL  \n",
       "283                     NaN  \n",
       "345                    KATL  \n",
       "365                    KPHX  \n",
       "408                    KTPA  \n",
       "...                     ...  \n",
       "2172921                KOAK  \n",
       "2172965                KCLT  \n",
       "2173158                KBWI  \n",
       "2173369                KDFW  \n",
       "2173424                 NaN  \n",
       "\n",
       "[24736 rows x 6 columns]"
      ]
     },
     "execution_count": 67,
     "metadata": {},
     "output_type": "execute_result"
    }
   ],
   "source": [
    "# Panda Contains\n",
    "df[df['call_sign'].str.contains('5.7')==True]"
   ]
  },
  {
   "cell_type": "code",
   "execution_count": 68,
   "metadata": {},
   "outputs": [
    {
     "data": {
      "text/html": [
       "<div>\n",
       "<style scoped>\n",
       "    .dataframe tbody tr th:only-of-type {\n",
       "        vertical-align: middle;\n",
       "    }\n",
       "\n",
       "    .dataframe tbody tr th {\n",
       "        vertical-align: top;\n",
       "    }\n",
       "\n",
       "    .dataframe thead th {\n",
       "        text-align: right;\n",
       "    }\n",
       "</style>\n",
       "<table border=\"1\" class=\"dataframe\">\n",
       "  <thead>\n",
       "    <tr style=\"text-align: right;\">\n",
       "      <th></th>\n",
       "      <th>airport</th>\n",
       "      <th>call_sign</th>\n",
       "      <th>time</th>\n",
       "      <th>event</th>\n",
       "      <th>departure_airport</th>\n",
       "      <th>destination_airport</th>\n",
       "    </tr>\n",
       "  </thead>\n",
       "  <tbody>\n",
       "    <tr>\n",
       "      <th>0</th>\n",
       "      <td>KEWR</td>\n",
       "      <td>UAL1974</td>\n",
       "      <td>2019-02-26 00:38:51</td>\n",
       "      <td>on</td>\n",
       "      <td>KMIA</td>\n",
       "      <td>KEWR</td>\n",
       "    </tr>\n",
       "    <tr>\n",
       "      <th>2</th>\n",
       "      <td>KDFW</td>\n",
       "      <td>DAL1556</td>\n",
       "      <td>2020-04-03 22:30:32</td>\n",
       "      <td>off</td>\n",
       "      <td>KDFW</td>\n",
       "      <td>KLGA</td>\n",
       "    </tr>\n",
       "    <tr>\n",
       "      <th>3</th>\n",
       "      <td>KDFW</td>\n",
       "      <td>DAL1766</td>\n",
       "      <td>2019-03-22 05:13:07</td>\n",
       "      <td>on</td>\n",
       "      <td>KSLC</td>\n",
       "      <td>KDFW</td>\n",
       "    </tr>\n",
       "    <tr>\n",
       "      <th>5</th>\n",
       "      <td>KSLC</td>\n",
       "      <td>DAL1672</td>\n",
       "      <td>2020-01-19 15:41:49</td>\n",
       "      <td>off</td>\n",
       "      <td>KSLC</td>\n",
       "      <td>KLGB</td>\n",
       "    </tr>\n",
       "    <tr>\n",
       "      <th>6</th>\n",
       "      <td>KIAH</td>\n",
       "      <td>UAL1855</td>\n",
       "      <td>2020-03-22 11:13:30</td>\n",
       "      <td>on</td>\n",
       "      <td>KAUS</td>\n",
       "      <td>KIAH</td>\n",
       "    </tr>\n",
       "    <tr>\n",
       "      <th>...</th>\n",
       "      <td>...</td>\n",
       "      <td>...</td>\n",
       "      <td>...</td>\n",
       "      <td>...</td>\n",
       "      <td>...</td>\n",
       "      <td>...</td>\n",
       "    </tr>\n",
       "    <tr>\n",
       "      <th>2173705</th>\n",
       "      <td>KSDF</td>\n",
       "      <td>DAL3076</td>\n",
       "      <td>2019-02-19 18:15:51</td>\n",
       "      <td>on</td>\n",
       "      <td>KATL</td>\n",
       "      <td>KSDF</td>\n",
       "    </tr>\n",
       "    <tr>\n",
       "      <th>2173706</th>\n",
       "      <td>KDEN</td>\n",
       "      <td>AAL2531</td>\n",
       "      <td>2020-01-10 06:41:36</td>\n",
       "      <td>on</td>\n",
       "      <td>KMIA</td>\n",
       "      <td>KDEN</td>\n",
       "    </tr>\n",
       "    <tr>\n",
       "      <th>2173707</th>\n",
       "      <td>KSAN</td>\n",
       "      <td>AAL2066</td>\n",
       "      <td>2019-04-08 04:40:46</td>\n",
       "      <td>on</td>\n",
       "      <td>KPHL</td>\n",
       "      <td>KSAN</td>\n",
       "    </tr>\n",
       "    <tr>\n",
       "      <th>2173708</th>\n",
       "      <td>KEWR</td>\n",
       "      <td>UAL421</td>\n",
       "      <td>2019-01-08 01:53:30</td>\n",
       "      <td>off</td>\n",
       "      <td>KEWR</td>\n",
       "      <td>KBOS</td>\n",
       "    </tr>\n",
       "    <tr>\n",
       "      <th>2173710</th>\n",
       "      <td>KSFO</td>\n",
       "      <td>UAL2026</td>\n",
       "      <td>2020-03-30 16:21:43</td>\n",
       "      <td>on</td>\n",
       "      <td>NaN</td>\n",
       "      <td>NaN</td>\n",
       "    </tr>\n",
       "  </tbody>\n",
       "</table>\n",
       "<p>1487754 rows × 6 columns</p>\n",
       "</div>"
      ],
      "text/plain": [
       "        airport call_sign                 time event departure_airport  \\\n",
       "0          KEWR   UAL1974  2019-02-26 00:38:51    on              KMIA   \n",
       "2          KDFW   DAL1556  2020-04-03 22:30:32   off              KDFW   \n",
       "3          KDFW   DAL1766  2019-03-22 05:13:07    on              KSLC   \n",
       "5          KSLC   DAL1672  2020-01-19 15:41:49   off              KSLC   \n",
       "6          KIAH   UAL1855  2020-03-22 11:13:30    on              KAUS   \n",
       "...         ...       ...                  ...   ...               ...   \n",
       "2173705    KSDF   DAL3076  2019-02-19 18:15:51    on              KATL   \n",
       "2173706    KDEN   AAL2531  2020-01-10 06:41:36    on              KMIA   \n",
       "2173707    KSAN   AAL2066  2019-04-08 04:40:46    on              KPHL   \n",
       "2173708    KEWR    UAL421  2019-01-08 01:53:30   off              KEWR   \n",
       "2173710    KSFO   UAL2026  2020-03-30 16:21:43    on               NaN   \n",
       "\n",
       "        destination_airport  \n",
       "0                      KEWR  \n",
       "2                      KLGA  \n",
       "3                      KDFW  \n",
       "5                      KLGB  \n",
       "6                      KIAH  \n",
       "...                     ...  \n",
       "2173705                KSDF  \n",
       "2173706                KDEN  \n",
       "2173707                KSAN  \n",
       "2173708                KBOS  \n",
       "2173710                 NaN  \n",
       "\n",
       "[1487754 rows x 6 columns]"
      ]
     },
     "execution_count": 68,
     "metadata": {},
     "output_type": "execute_result"
    }
   ],
   "source": [
    "# finding a number after the string AL#\n",
    "df[df['call_sign'].str.contains('[0-9]')==True]"
   ]
  },
  {
   "cell_type": "code",
   "execution_count": 69,
   "metadata": {},
   "outputs": [
    {
     "data": {
      "text/html": [
       "<div>\n",
       "<style scoped>\n",
       "    .dataframe tbody tr th:only-of-type {\n",
       "        vertical-align: middle;\n",
       "    }\n",
       "\n",
       "    .dataframe tbody tr th {\n",
       "        vertical-align: top;\n",
       "    }\n",
       "\n",
       "    .dataframe thead th {\n",
       "        text-align: right;\n",
       "    }\n",
       "</style>\n",
       "<table border=\"1\" class=\"dataframe\">\n",
       "  <thead>\n",
       "    <tr style=\"text-align: right;\">\n",
       "      <th></th>\n",
       "      <th>airport</th>\n",
       "      <th>call_sign</th>\n",
       "      <th>time</th>\n",
       "      <th>event</th>\n",
       "      <th>departure_airport</th>\n",
       "      <th>destination_airport</th>\n",
       "    </tr>\n",
       "  </thead>\n",
       "  <tbody>\n",
       "    <tr>\n",
       "      <th>592</th>\n",
       "      <td>KSAN</td>\n",
       "      <td>SWA9</td>\n",
       "      <td>2020-01-16 21:35:15</td>\n",
       "      <td>on</td>\n",
       "      <td>KAUS</td>\n",
       "      <td>KSAN</td>\n",
       "    </tr>\n",
       "    <tr>\n",
       "      <th>916</th>\n",
       "      <td>KJFK</td>\n",
       "      <td>AAL1</td>\n",
       "      <td>2019-02-05 12:45:51</td>\n",
       "      <td>off</td>\n",
       "      <td>KJFK</td>\n",
       "      <td>KLAX</td>\n",
       "    </tr>\n",
       "    <tr>\n",
       "      <th>1319</th>\n",
       "      <td>KJFK</td>\n",
       "      <td>AAL1</td>\n",
       "      <td>2020-08-17 11:40:12</td>\n",
       "      <td>off</td>\n",
       "      <td>KJFK</td>\n",
       "      <td>KLAX</td>\n",
       "    </tr>\n",
       "    <tr>\n",
       "      <th>3256</th>\n",
       "      <td>KHOU</td>\n",
       "      <td>SWA1</td>\n",
       "      <td>2020-05-29 12:48:13</td>\n",
       "      <td>on</td>\n",
       "      <td>KDAL</td>\n",
       "      <td>KHOU</td>\n",
       "    </tr>\n",
       "    <tr>\n",
       "      <th>3301</th>\n",
       "      <td>PHNL</td>\n",
       "      <td>AAL5</td>\n",
       "      <td>2020-02-18 01:42:23</td>\n",
       "      <td>on</td>\n",
       "      <td>NaN</td>\n",
       "      <td>NaN</td>\n",
       "    </tr>\n",
       "    <tr>\n",
       "      <th>...</th>\n",
       "      <td>...</td>\n",
       "      <td>...</td>\n",
       "      <td>...</td>\n",
       "      <td>...</td>\n",
       "      <td>...</td>\n",
       "      <td>...</td>\n",
       "    </tr>\n",
       "    <tr>\n",
       "      <th>2171422</th>\n",
       "      <td>KJFK</td>\n",
       "      <td>AAL2</td>\n",
       "      <td>2020-02-20 20:31:02</td>\n",
       "      <td>on</td>\n",
       "      <td>KLAX</td>\n",
       "      <td>KJFK</td>\n",
       "    </tr>\n",
       "    <tr>\n",
       "      <th>2171542</th>\n",
       "      <td>KHOU</td>\n",
       "      <td>SWA4</td>\n",
       "      <td>2020-06-06 12:08:56</td>\n",
       "      <td>off</td>\n",
       "      <td>KHOU</td>\n",
       "      <td>KDAL</td>\n",
       "    </tr>\n",
       "    <tr>\n",
       "      <th>2172937</th>\n",
       "      <td>KLAX</td>\n",
       "      <td>AAL4</td>\n",
       "      <td>2020-03-29 18:07:23</td>\n",
       "      <td>off</td>\n",
       "      <td>KLAX</td>\n",
       "      <td>KJFK</td>\n",
       "    </tr>\n",
       "    <tr>\n",
       "      <th>2173052</th>\n",
       "      <td>KIAH</td>\n",
       "      <td>AAL9</td>\n",
       "      <td>2020-07-22 21:57:35</td>\n",
       "      <td>off</td>\n",
       "      <td>KIAH</td>\n",
       "      <td>KORD</td>\n",
       "    </tr>\n",
       "    <tr>\n",
       "      <th>2173169</th>\n",
       "      <td>KLAX</td>\n",
       "      <td>AAL2</td>\n",
       "      <td>2020-08-10 15:12:43</td>\n",
       "      <td>off</td>\n",
       "      <td>KLAX</td>\n",
       "      <td>KJFK</td>\n",
       "    </tr>\n",
       "  </tbody>\n",
       "</table>\n",
       "<p>5287 rows × 6 columns</p>\n",
       "</div>"
      ],
      "text/plain": [
       "        airport call_sign                 time event departure_airport  \\\n",
       "592        KSAN      SWA9  2020-01-16 21:35:15    on              KAUS   \n",
       "916        KJFK      AAL1  2019-02-05 12:45:51   off              KJFK   \n",
       "1319       KJFK      AAL1  2020-08-17 11:40:12   off              KJFK   \n",
       "3256       KHOU      SWA1  2020-05-29 12:48:13    on              KDAL   \n",
       "3301       PHNL      AAL5  2020-02-18 01:42:23    on               NaN   \n",
       "...         ...       ...                  ...   ...               ...   \n",
       "2171422    KJFK      AAL2  2020-02-20 20:31:02    on              KLAX   \n",
       "2171542    KHOU      SWA4  2020-06-06 12:08:56   off              KHOU   \n",
       "2172937    KLAX      AAL4  2020-03-29 18:07:23   off              KLAX   \n",
       "2173052    KIAH      AAL9  2020-07-22 21:57:35   off              KIAH   \n",
       "2173169    KLAX      AAL2  2020-08-10 15:12:43   off              KLAX   \n",
       "\n",
       "        destination_airport  \n",
       "592                    KSAN  \n",
       "916                    KLAX  \n",
       "1319                   KLAX  \n",
       "3256                   KHOU  \n",
       "3301                    NaN  \n",
       "...                     ...  \n",
       "2171422                KJFK  \n",
       "2171542                KDAL  \n",
       "2172937                KJFK  \n",
       "2173052                KORD  \n",
       "2173169                KJFK  \n",
       "\n",
       "[5287 rows x 6 columns]"
      ]
     },
     "execution_count": 69,
     "metadata": {},
     "output_type": "execute_result"
    }
   ],
   "source": [
    "# Looking for end of string numbers in call_sign\n",
    "df[df['call_sign'].str.contains('[A-Z][0-9]$')==True]"
   ]
  },
  {
   "cell_type": "markdown",
   "metadata": {},
   "source": [
    "# Re Module"
   ]
  },
  {
   "cell_type": "code",
   "execution_count": 18,
   "metadata": {},
   "outputs": [],
   "source": [
    "import re"
   ]
  },
  {
   "cell_type": "code",
   "execution_count": 28,
   "metadata": {},
   "outputs": [
    {
     "name": "stdout",
     "output_type": "stream",
     "text": [
      "<re.Match object; span=(0, 17), match='The rain in Spain'>\n"
     ]
    }
   ],
   "source": [
    "txt = \"The rain in Spain\"\n",
    "x = re.search(\"^The.*Spain$\", txt)\n",
    "print(x)"
   ]
  },
  {
   "cell_type": "code",
   "execution_count": 29,
   "metadata": {},
   "outputs": [
    {
     "data": {
      "text/plain": [
       "(0, 17)"
      ]
     },
     "execution_count": 29,
     "metadata": {},
     "output_type": "execute_result"
    }
   ],
   "source": [
    "x.span()"
   ]
  },
  {
   "cell_type": "code",
   "execution_count": 20,
   "metadata": {},
   "outputs": [
    {
     "data": {
      "text/plain": [
       "['i', 'i', 'i']"
      ]
     },
     "execution_count": 20,
     "metadata": {},
     "output_type": "execute_result"
    }
   ],
   "source": [
    "re.findall(\"i\", txt)"
   ]
  },
  {
   "cell_type": "code",
   "execution_count": 21,
   "metadata": {},
   "outputs": [
    {
     "data": {
      "text/plain": [
       "['The ra', 'n ', 'n Spa', 'n']"
      ]
     },
     "execution_count": 21,
     "metadata": {},
     "output_type": "execute_result"
    }
   ],
   "source": [
    "re.split(\"i\",txt)"
   ]
  },
  {
   "cell_type": "code",
   "execution_count": 22,
   "metadata": {},
   "outputs": [
    {
     "data": {
      "text/plain": [
       "'The rann nn Spann'"
      ]
     },
     "execution_count": 22,
     "metadata": {},
     "output_type": "execute_result"
    }
   ],
   "source": [
    "re.sub(\"i\",\"n\",txt)"
   ]
  },
  {
   "cell_type": "code",
   "execution_count": null,
   "metadata": {},
   "outputs": [],
   "source": []
  }
 ],
 "metadata": {
  "hide_input": false,
  "kernelspec": {
   "display_name": "Python 3",
   "language": "python",
   "name": "python3"
  },
  "language_info": {
   "codemirror_mode": {
    "name": "ipython",
    "version": 3
   },
   "file_extension": ".py",
   "mimetype": "text/x-python",
   "name": "python",
   "nbconvert_exporter": "python",
   "pygments_lexer": "ipython3",
   "version": "3.7.4"
  }
 },
 "nbformat": 4,
 "nbformat_minor": 4
}
